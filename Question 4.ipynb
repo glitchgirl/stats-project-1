{
 "cells": [
  {
   "cell_type": "code",
   "execution_count": 1,
   "id": "428caf48",
   "metadata": {},
   "outputs": [
    {
     "name": "stdout",
     "output_type": "stream",
     "text": [
      "Probability of receiving 5 tweets in a given hour: 0.09160366159257924\n"
     ]
    }
   ],
   "source": [
    "import math\n",
    "\n",
    "# Mean rate (λ)\n",
    "lambda_ = 8\n",
    "\n",
    "# Number of tweets you want to find the probability for (k)\n",
    "k = 5\n",
    "\n",
    "# Calculate the probability\n",
    "probability = (math.exp(-lambda_) * lambda_**k) / math.factorial(k)\n",
    "\n",
    "print(\"Probability of receiving 5 tweets in a given hour:\", probability)"
   ]
  },
  {
   "cell_type": "code",
   "execution_count": 2,
   "id": "7a249106",
   "metadata": {},
   "outputs": [
    {
     "name": "stdout",
     "output_type": "stream",
     "text": [
      "Probability of receiving 10 tweets in 1.5 hours: 0.10483725588365932\n"
     ]
    }
   ],
   "source": [
    "import math\n",
    "\n",
    "# Mean rate (λ) for 1.5 hours\n",
    "lambda_ = 8 * 1.5\n",
    "\n",
    "# Number of tweets you want to find the probability for (k)\n",
    "k = 10\n",
    "\n",
    "# Calculate the probability\n",
    "probability = (math.exp(-lambda_) * lambda_**k) / math.factorial(k)\n",
    "\n",
    "print(\"Probability of receiving 10 tweets in 1.5 hours:\", probability)\n"
   ]
  },
  {
   "cell_type": "code",
   "execution_count": 3,
   "id": "c683043e",
   "metadata": {},
   "outputs": [
    {
     "name": "stdout",
     "output_type": "stream",
     "text": [
      "Probability of receiving fewer than 3 tweets in 0.5 hours: 0.2381033055535443\n"
     ]
    }
   ],
   "source": [
    "import math\n",
    "\n",
    "# Mean rate (λ) for 0.5 hours\n",
    "lambda_ = 8 * 0.5\n",
    "\n",
    "# Calculate the probability of receiving 0, 1, and 2 tweets\n",
    "probability_less_than_3 = sum((math.exp(-lambda_) * lambda_**k) / math.factorial(k) for k in range(3))\n",
    "\n",
    "print(\"Probability of receiving fewer than 3 tweets in 0.5 hours:\", probability_less_than_3)\n"
   ]
  },
  {
   "cell_type": "code",
   "execution_count": null,
   "id": "87cc016a",
   "metadata": {},
   "outputs": [],
   "source": []
  }
 ],
 "metadata": {
  "kernelspec": {
   "display_name": "Python 3 (ipykernel)",
   "language": "python",
   "name": "python3"
  },
  "language_info": {
   "codemirror_mode": {
    "name": "ipython",
    "version": 3
   },
   "file_extension": ".py",
   "mimetype": "text/x-python",
   "name": "python",
   "nbconvert_exporter": "python",
   "pygments_lexer": "ipython3",
   "version": "3.10.8"
  }
 },
 "nbformat": 4,
 "nbformat_minor": 5
}
