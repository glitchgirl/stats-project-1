{
 "cells": [
  {
   "cell_type": "code",
   "execution_count": 1,
   "id": "f1266ac4",
   "metadata": {},
   "outputs": [
    {
     "name": "stdout",
     "output_type": "stream",
     "text": [
      "Probability that two or more have type O negative blood: 0.4131434670603893\n"
     ]
    }
   ],
   "source": [
    "from math import comb\n",
    "\n",
    "# Number of donors recruited\n",
    "n = 20\n",
    "\n",
    "# Probability of a randomly selected person having type O negative blood\n",
    "p = 0.07\n",
    "\n",
    "# Calculate the probability of 0 donors with type O negative blood\n",
    "probability_zero = (1 - p) ** n\n",
    "\n",
    "# Calculate the probability of 1 donor with type O negative blood\n",
    "probability_one = comb(n, 1) * p * (1 - p) ** (n - 1)\n",
    "\n",
    "# Calculate the probability that two or more have type O negative blood\n",
    "probability_two_or_more = 1 - (probability_zero + probability_one)\n",
    "\n",
    "print(\"Probability that two or more have type O negative blood:\", probability_two_or_more)\n"
   ]
  },
  {
   "cell_type": "code",
   "execution_count": 2,
   "id": "fd324771",
   "metadata": {},
   "outputs": [
    {
     "name": "stdout",
     "output_type": "stream",
     "text": [
      "Probability that fewer than four have type O negative blood: 0.9528670585679425\n"
     ]
    }
   ],
   "source": [
    "from math import comb\n",
    "\n",
    "# Number of donors recruited\n",
    "n = 20\n",
    "\n",
    "# Probability of a randomly selected person having type O negative blood\n",
    "p = 0.07\n",
    "\n",
    "# Initialize the total probability\n",
    "total_probability = 0\n",
    "\n",
    "# Calculate the probability that 0, 1, 2, or 3 donors have type O negative blood\n",
    "for k in range(4):\n",
    "    probability_k = comb(n, k) * p**k * (1 - p)**(n - k)\n",
    "    total_probability += probability_k\n",
    "\n",
    "print(\"Probability that fewer than four have type O negative blood:\", total_probability)\n"
   ]
  },
  {
   "cell_type": "code",
   "execution_count": 3,
   "id": "bb513a21",
   "metadata": {},
   "outputs": [
    {
     "name": "stdout",
     "output_type": "stream",
     "text": [
      "Mean number of donors with type O negative blood: 1.4000000000000001\n"
     ]
    }
   ],
   "source": [
    "# Number of donors recruited\n",
    "n = 20\n",
    "\n",
    "# Probability of a randomly selected person having type O negative blood\n",
    "p = 0.07\n",
    "\n",
    "# Calculate the mean number of donors with type O negative blood\n",
    "mean = n * p\n",
    "\n",
    "print(\"Mean number of donors with type O negative blood:\", mean)\n"
   ]
  },
  {
   "cell_type": "code",
   "execution_count": null,
   "id": "8cf0024f",
   "metadata": {},
   "outputs": [],
   "source": []
  }
 ],
 "metadata": {
  "kernelspec": {
   "display_name": "Python 3 (ipykernel)",
   "language": "python",
   "name": "python3"
  },
  "language_info": {
   "codemirror_mode": {
    "name": "ipython",
    "version": 3
   },
   "file_extension": ".py",
   "mimetype": "text/x-python",
   "name": "python",
   "nbconvert_exporter": "python",
   "pygments_lexer": "ipython3",
   "version": "3.10.8"
  }
 },
 "nbformat": 4,
 "nbformat_minor": 5
}
